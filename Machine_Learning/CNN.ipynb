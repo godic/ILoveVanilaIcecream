{
 "cells": [
  {
   "cell_type": "markdown",
   "metadata": {},
   "source": [
    "# CNN"
   ]
  },
  {
   "cell_type": "code",
   "execution_count": null,
   "metadata": {},
   "outputs": [],
   "source": [
    "# load data\n",
    "\n",
    "from tqdm import tqdm\n",
    "from sklearn.model_selection import train_test_split\n",
    "\n",
    "x, y = get_dataset(\"YOUR DATASET\")\n",
    "train_x, valid_x, train_y, valid_y = train_test_split(x, y, test_size = \"YOUR \", random_state=\"YOUR SEED\")\n",
    "\n",
    "del(x, y)\n",
    "\n",
    "print(train_x.shape)\n",
    "print(train_y.shape)\n",
    "\n",
    "print(valid_x.shape)\n",
    "print(valid_y.shape)"
   ]
  },
  {
   "cell_type": "code",
   "execution_count": null,
   "metadata": {},
   "outputs": [],
   "source": [
    "# train\n",
    "from tensorflow.keras.models import Sequential\n",
    "from tensorflow.keras.layers import \"YOUR LAYER\"\n",
    "from tensorflow.keras.optimizers import \"YOUR OPTIMIZER\"\n",
    "from tensorflow.keras.metrics import \"YOUR METRIC\"\n",
    "from tensorflow.keras import backend as K\n",
    "\n",
    "K.clear_session()\n",
    "\n",
    "# YOUR PARAMTERS\n",
    "#######################################################################################\n",
    "\n",
    "\n",
    "#######################################################################################\n",
    "\n",
    "model = Sequential()\n",
    "\n",
    "# MODEL\n",
    "#######################################################################################\n",
    "\n",
    "    \n",
    "\n",
    "#######################################################################################\n",
    "\n",
    "model.compile(loss='YOUR LOSS', optimizer=\"YOUR OPTIMIZER\", metrics=[\"YOUR METRIC\"])\n",
    "model.summary()\n",
    "\n",
    "history = model.fit(train_x, train_y, \n",
    "                    validation_data=(valid_x, valid_y), \n",
    "                    batch_size=\"YOUR BATCH SIZE\", epochs=\"YOUR EPOCHS\", shuffle=True, verbose=1)"
   ]
  },
  {
   "cell_type": "code",
   "execution_count": null,
   "metadata": {},
   "outputs": [],
   "source": [
    "# graph\n",
    "import matplotlib.pyplot as plt\n",
    "\n",
    "loss = history.history['loss']\n",
    "val_loss = history.history['val_loss']\n",
    "\n",
    "epochs = range(1,len(loss) + 1)\n",
    "\n",
    "plt.plot(epochs, loss, 'r', label='Training Loss')\n",
    "plt.plot(epochs, val_loss, 'b', label='Validation Loss')\n",
    "plt.title('Training Loss vs Validation Loss')\n",
    "plt.xlabel('Epochs')\n",
    "plt.ylabel('Loss')\n",
    "plt.legend()\n",
    "plt.show()"
   ]
  },
  {
   "cell_type": "code",
   "execution_count": null,
   "metadata": {},
   "outputs": [],
   "source": []
  }
 ],
 "metadata": {
  "kernelspec": {
   "display_name": "Python 3",
   "language": "python",
   "name": "python3"
  },
  "language_info": {
   "codemirror_mode": {
    "name": "ipython",
    "version": 3
   },
   "file_extension": ".py",
   "mimetype": "text/x-python",
   "name": "python",
   "nbconvert_exporter": "python",
   "pygments_lexer": "ipython3",
   "version": "3.6.9"
  }
 },
 "nbformat": 4,
 "nbformat_minor": 4
}
