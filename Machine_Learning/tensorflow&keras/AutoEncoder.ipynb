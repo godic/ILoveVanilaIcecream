{
 "cells": [
  {
   "cell_type": "markdown",
   "metadata": {},
   "source": [
    "# AutoEncoder"
   ]
  },
  {
   "cell_type": "code",
   "execution_count": null,
   "metadata": {},
   "outputs": [],
   "source": [
    "import pandas as pd\n",
    "import numpy as np\n",
    "\n",
    "dataset = \"YOUR_DATASET\" # DATAFRAME\n",
    "\n",
    "display(dataset)"
   ]
  },
  {
   "cell_type": "code",
   "execution_count": null,
   "metadata": {},
   "outputs": [],
   "source": [
    "train_X = \"YOUR TRAINING INPUT\" # NUMPY\n",
    "train_Y = \"YOUR TRAINING LABEL\" # NUMPY\n",
    "\n",
    "print(train_X.shape)\n",
    "print(train_Y.shape)"
   ]
  },
  {
   "cell_type": "code",
   "execution_count": null,
   "metadata": {},
   "outputs": [],
   "source": [
    "val_X = \"YOUR VALIDATION LABEL\" # NUMPY\n",
    "val_Y = \"YOUR VALIDATION LABEL\" # NUMPY\n",
    "\n",
    "print(val_X.shape)\n",
    "print(val_Y.shape)"
   ]
  },
  {
   "cell_type": "code",
   "execution_count": null,
   "metadata": {},
   "outputs": [],
   "source": [
    "# shuffling\n",
    "import random\n",
    "\n",
    "shuf = np.array([i for i in range(train_X.shape[0])])\n",
    "random.shuffle(shuf)\n",
    "\n",
    "train_X = train_X[shuf]\n",
    "train_Y = train_Y[shuf]\n",
    "\n",
    "print(train_X.shape)\n",
    "print(train_Y.shape)"
   ]
  },
  {
   "cell_type": "code",
   "execution_count": null,
   "metadata": {},
   "outputs": [],
   "source": [
    "#######################################################################################\n",
    "\n",
    "from tensorflow.config.experimental import list_physical_devices, set_memory_growth\n",
    "gpus = list_physical_devices('GPU')\n",
    "display(gpus)\n",
    "if gpus:\n",
    "  try:\n",
    "    set_memory_growth(gpus[0], True)\n",
    "  except RuntimeError as e:\n",
    "    print(e)\n",
    "    \n",
    "#######################################################################################"
   ]
  },
  {
   "cell_type": "code",
   "execution_count": null,
   "metadata": {},
   "outputs": [],
   "source": [
    "from tensorflow.keras.models import Sequential\n",
    "from tensorflow.keras.layers import \"YOUR LAYER\"\n",
    "from tensorflow.keras.optimizers import \"YOUR OPTIMIZER\"\n",
    "from tensorflow.keras.metrics import \"YOUR METRIC\"\n",
    "from tensorflow.keras.backend import clear_session\n",
    "\n",
    "clear_session()\n",
    "\n",
    "z_dim = 100\n",
    "\n",
    "encoder = Sequential(name=\"encoder\")\n",
    "# MODEL\n",
    "#######################################################################################\n",
    "\n",
    "    \n",
    "\n",
    "#######################################################################################\n",
    "\n",
    "encoder.summary()\n",
    "\n",
    "\n",
    "decoder = Sequential(name=\"decoder\")\n",
    "# MODEL\n",
    "#######################################################################################\n",
    "\n",
    "    \n",
    "\n",
    "#######################################################################################\n",
    "\n",
    "decoder.summary()\n",
    "\n",
    "model = Sequential(name=\"Autoencoder\")\n",
    "model.add(encoder)\n",
    "model.add(decoder)\n",
    "\n",
    "model.summary()\n",
    "model.compile(loss='YOUR LOSS', optimizer=\"YOUR OPTIMIZER\", metrics=[\"YOUR METRIC\"])\n",
    "history = model.fit(train_X, train_X, validation_data=(valid_X, valid_X), \n",
    "                    batch_size=\"YOUR BATCH SIZE\", epochs=\"YOUR EPOCHS\", shuffle=True, verbose=1)"
   ]
  },
  {
   "cell_type": "code",
   "execution_count": null,
   "metadata": {},
   "outputs": [],
   "source": [
    "# graph\n",
    "import matplotlib.pyplot as plt\n",
    "\n",
    "loss = history.history['loss']\n",
    "val_loss = history.history['val_loss']\n",
    "\n",
    "epochs = range(1,len(loss) + 1)\n",
    "\n",
    "plt.plot(epochs, loss, 'r', label='Training Loss')\n",
    "plt.plot(epochs, val_loss, 'b', label='Validation Loss')\n",
    "plt.title('Training Loss vs Validation Loss')\n",
    "plt.xlabel('Epochs')\n",
    "plt.ylabel('Loss')\n",
    "plt.legend()\n",
    "plt.show()"
   ]
  },
  {
   "cell_type": "code",
   "execution_count": null,
   "metadata": {},
   "outputs": [],
   "source": []
  }
 ],
 "metadata": {
  "kernelspec": {
   "display_name": "Python 3",
   "language": "python",
   "name": "python3"
  },
  "language_info": {
   "codemirror_mode": {
    "name": "ipython",
    "version": 3
   },
   "file_extension": ".py",
   "mimetype": "text/x-python",
   "name": "python",
   "nbconvert_exporter": "python",
   "pygments_lexer": "ipython3",
   "version": "3.6.9"
  }
 },
 "nbformat": 4,
 "nbformat_minor": 4
}
