{
 "cells": [
  {
   "cell_type": "markdown",
   "metadata": {},
   "source": [
    "# Attention"
   ]
  },
  {
   "cell_type": "code",
   "execution_count": null,
   "metadata": {},
   "outputs": [],
   "source": [
    "# load data\n",
    "\n",
    "from tqdm import tqdm\n",
    "from sklearn.model_selection import train_test_split\n",
    "\n",
    "x, y = get_dataset(\"YOUR DATASET\")\n",
    "train_x, valid_x, train_y, valid_y = train_test_split(x, y, test_size = \"YOUR \", random_state=\"YOUR SEED\")\n",
    "\n",
    "del(x, y)\n",
    "\n",
    "print(train_x.shape)\n",
    "print(train_y.shape)\n",
    "\n",
    "print(valid_x.shape)\n",
    "print(valid_y.shape)"
   ]
  },
  {
   "cell_type": "code",
   "execution_count": null,
   "metadata": {},
   "outputs": [],
   "source": [
    "# train\n",
    "from tensorflow.keras.models import Model\n",
    "from tensorflow.keras.layers import Input, Dense, multiply, Flatten\n",
    "from tensorflow.keras.optimizers import Adam\n",
    "from tensorflow.keras import regularizers\n",
    "from tensorflow.keras.metrics import AUC\n",
    "from tensorflow.keras import backend as K\n",
    "\n",
    "#######################################################################################\n",
    "\n",
    "# from tensorflow.config.experimental import list_physical_devices, set_memory_growth\n",
    "# gpus = list_physical_devices('GPU')\n",
    "# display(gpus)\n",
    "# if gpus:\n",
    "#   try:\n",
    "#     set_memory_growth(gpus[1], True)\n",
    "#   except RuntimeError as e:\n",
    "#     print(e)\n",
    "    \n",
    "#######################################################################################\n",
    "\n",
    "K.clear_session()\n",
    "epoch = 10\n",
    "l1_rate = 1e-5\n",
    "lr = 0.001\n",
    "batch_size = 64\n",
    "attention_dim = train_X.shape[1] * train_X.shape[2]\n",
    "\n",
    "input_layer = Input(shape=train_X.shape[1:])\n",
    "flatten_layer = Flatten()(input_layer)\n",
    "\n",
    "attention_layer = Dense(attention_dim, activation='softmax')(flatten_layer)\n",
    "attention_mul_layer = multiply([flatten_layer, attention_layer])\n",
    "\n",
    "ann1 = Dense(64)(attention_mul_layer)\n",
    "\n",
    "y = Dense(1, activation='sigmoid')(ann1)\n",
    "\n",
    "model = Model(input_layer, y)\n",
    "\n",
    "adam = Adam(lr=lr)\n",
    "model.compile(loss='YOUR LOSS', optimizer=adam, metrics=[\"YOUR METRIC\"])\n",
    "model.summary()\n",
    "\n",
    "history = model.fit(train_X, train_Y, validation_data=(valid_X, valid_Y), batch_size=batch_size, epochs=epoch, shuffle=True, verbose=1)"
   ]
  },
  {
   "cell_type": "code",
   "execution_count": null,
   "metadata": {},
   "outputs": [],
   "source": [
    "# graph\n",
    "import matplotlib.pyplot as plt\n",
    "\n",
    "loss = history.history['loss']\n",
    "val_loss = history.history['val_loss']\n",
    "\n",
    "epochs = range(1,len(loss) + 1)\n",
    "\n",
    "plt.plot(epochs, loss, 'r', label='Training Loss')\n",
    "plt.plot(epochs, val_loss, 'b', label='Validation Loss')\n",
    "plt.title('Training Loss vs Validation Loss')\n",
    "plt.xlabel('Epochs')\n",
    "plt.ylabel('Loss')\n",
    "plt.legend()\n",
    "plt.show()"
   ]
  }
 ],
 "metadata": {
  "kernelspec": {
   "display_name": "Python 3",
   "language": "python",
   "name": "python3"
  },
  "language_info": {
   "codemirror_mode": {
    "name": "ipython",
    "version": 3
   },
   "file_extension": ".py",
   "mimetype": "text/x-python",
   "name": "python",
   "nbconvert_exporter": "python",
   "pygments_lexer": "ipython3",
   "version": "3.6.9"
  }
 },
 "nbformat": 4,
 "nbformat_minor": 4
}
