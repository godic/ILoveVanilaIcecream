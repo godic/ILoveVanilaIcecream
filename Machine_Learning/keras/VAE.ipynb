{
 "cells": [
  {
   "cell_type": "markdown",
   "metadata": {},
   "source": [
    "# VAE"
   ]
  },
  {
   "cell_type": "code",
   "execution_count": 1,
   "metadata": {},
   "outputs": [
    {
     "name": "stdout",
     "output_type": "stream",
     "text": [
      "(60000, 28, 28, 1) (10000, 28, 28, 1)\n"
     ]
    }
   ],
   "source": [
    "import numpy as np\n",
    "import pandas as pd\n",
    "import tensorflow as tf\n",
    "\n",
    "from tensorflow.keras.datasets import mnist\n",
    "\n",
    "(train_X, _), (valid_X, _) = mnist.load_data() # Your Dataset\n",
    "\n",
    "train_X = train_X.reshape(train_X.shape[0], 28, 28, 1).astype(\"float32\") / 255\n",
    "valid_X = valid_X.reshape(valid_X.shape[0], 28, 28, 1).astype(\"float32\") /  255\n",
    "\n",
    "\n",
    "print(train_X.shape, valid_X.shape)"
   ]
  },
  {
   "cell_type": "code",
   "execution_count": 2,
   "metadata": {},
   "outputs": [
    {
     "name": "stdout",
     "output_type": "stream",
     "text": [
      "Model: \"encoder\"\n",
      "_________________________________________________________________\n",
      "Layer (type)                 Output Shape              Param #   \n",
      "=================================================================\n",
      "conv2d (Conv2D)              (None, 13, 13, 32)        320       \n",
      "_________________________________________________________________\n",
      "batch_normalization (BatchNo (None, 13, 13, 32)        128       \n",
      "_________________________________________________________________\n",
      "conv2d_1 (Conv2D)            (None, 6, 6, 64)          18496     \n",
      "_________________________________________________________________\n",
      "flatten (Flatten)            (None, 2304)              0         \n",
      "_________________________________________________________________\n",
      "dense (Dense)                (None, 512)               1180160   \n",
      "_________________________________________________________________\n",
      "leaky_re_lu (LeakyReLU)      (None, 512)               0         \n",
      "_________________________________________________________________\n",
      "dense_1 (Dense)              (None, 256)               131328    \n",
      "_________________________________________________________________\n",
      "leaky_re_lu_1 (LeakyReLU)    (None, 256)               0         \n",
      "_________________________________________________________________\n",
      "dense_2 (Dense)              (None, 128)               32896     \n",
      "_________________________________________________________________\n",
      "leaky_re_lu_2 (LeakyReLU)    (None, 128)               0         \n",
      "_________________________________________________________________\n",
      "dense_3 (Dense)              (None, 64)                8256      \n",
      "_________________________________________________________________\n",
      "activation (Activation)      (None, 64)                0         \n",
      "=================================================================\n",
      "Total params: 1,371,584\n",
      "Trainable params: 1,371,520\n",
      "Non-trainable params: 64\n",
      "_________________________________________________________________\n"
     ]
    }
   ],
   "source": [
    "#encoder \n",
    "from tensorflow.keras.models import Sequential\n",
    "from tensorflow.keras.layers import Dense, LeakyReLU, Activation, Conv2D, Flatten, BatchNormalization\n",
    "from tensorflow.keras.optimizers import Adam\n",
    "\n",
    "# YOUR PARAMTERS\n",
    "#######################################################################################\n",
    "loss = \"mse\"\n",
    "learning_rate = 0.001\n",
    "opt = Adam(lr=learning_rate)\n",
    "#######################################################################################\n",
    "\n",
    "# MODEL\n",
    "#######################################################################################\n",
    "encoder = Sequential(name=\"encoder\")\n",
    "encoder.add(Conv2D(input_shape=train_X.shape[1:], filters=32, kernel_size=3, strides=(2, 2), activation='relu'))\n",
    "encoder.add(BatchNormalization())\n",
    "encoder.add(Conv2D(filters=64, kernel_size=3, strides=(2, 2), activation='relu'))\n",
    "encoder.add(Flatten())\n",
    "encoder.add(Dense(512))\n",
    "encoder.add(LeakyReLU())\n",
    "encoder.add(Dense(256))\n",
    "encoder.add(LeakyReLU())\n",
    "encoder.add(Dense(128))\n",
    "encoder.add(LeakyReLU())\n",
    "encoder.add(Dense(64))\n",
    "encoder.add(Activation(\"sigmoid\"))\n",
    "#######################################################################################\n",
    "\n",
    "encoder.compile(loss=loss, optimizer=Adam(lr=learning_rate))\n",
    "\n",
    "encoder.summary()"
   ]
  },
  {
   "cell_type": "code",
   "execution_count": 3,
   "metadata": {},
   "outputs": [],
   "source": [
    "# sampling layer\n",
    "def sampling(x):\n",
    "    mean, logvar = tf.split(x, num_or_size_splits=2, axis=1)\n",
    "    stddev = 1e-8 + tf.nn.softplus(logvar)\n",
    "    \n",
    "    eps = tf.random.normal(shape=tf.shape(mean))\n",
    "    z = mean + eps * stddev\n",
    "    \n",
    "    return z"
   ]
  },
  {
   "cell_type": "code",
   "execution_count": 4,
   "metadata": {},
   "outputs": [
    {
     "name": "stdout",
     "output_type": "stream",
     "text": [
      "Model: \"decoder\"\n",
      "_________________________________________________________________\n",
      "Layer (type)                 Output Shape              Param #   \n",
      "=================================================================\n",
      "lambda (Lambda)              (None, 32)                0         \n",
      "_________________________________________________________________\n",
      "dense_4 (Dense)              (None, 64)                2112      \n",
      "_________________________________________________________________\n",
      "leaky_re_lu_3 (LeakyReLU)    (None, 64)                0         \n",
      "_________________________________________________________________\n",
      "dense_5 (Dense)              (None, 128)               8320      \n",
      "_________________________________________________________________\n",
      "leaky_re_lu_4 (LeakyReLU)    (None, 128)               0         \n",
      "_________________________________________________________________\n",
      "dense_6 (Dense)              (None, 256)               33024     \n",
      "_________________________________________________________________\n",
      "leaky_re_lu_5 (LeakyReLU)    (None, 256)               0         \n",
      "_________________________________________________________________\n",
      "dense_7 (Dense)              (None, 512)               131584    \n",
      "_________________________________________________________________\n",
      "leaky_re_lu_6 (LeakyReLU)    (None, 512)               0         \n",
      "_________________________________________________________________\n",
      "dense_8 (Dense)              (None, 784)               402192    \n",
      "=================================================================\n",
      "Total params: 577,232\n",
      "Trainable params: 577,232\n",
      "Non-trainable params: 0\n",
      "_________________________________________________________________\n"
     ]
    }
   ],
   "source": [
    "#decoder\n",
    "from tensorflow.keras.layers import Input, Lambda\n",
    "\n",
    "# YOUR PARAMTERS\n",
    "#######################################################################################\n",
    "z_dim = 64\n",
    "#######################################################################################\n",
    "\n",
    "\n",
    "# MODEL\n",
    "#######################################################################################\n",
    "decoder = Sequential(name=\"decoder\")\n",
    "decoder.add(Input(shape=(z_dim, )))\n",
    "decoder.add(Lambda(sampling))\n",
    "decoder.add(Dense(64))\n",
    "decoder.add(LeakyReLU())\n",
    "decoder.add(Dense(128))\n",
    "decoder.add(LeakyReLU())\n",
    "decoder.add(Dense(256))\n",
    "decoder.add(LeakyReLU())\n",
    "decoder.add(Dense(512))\n",
    "decoder.add(LeakyReLU())\n",
    "decoder.add(Dense(784))\n",
    "# decoder.add(Activation(\"sigmoid\"))\n",
    "#######################################################################################\n",
    "\n",
    "decoder.compile(loss=loss, optimizer=Adam(lr=learning_rate))\n",
    "\n",
    "decoder.summary()"
   ]
  },
  {
   "cell_type": "code",
   "execution_count": 5,
   "metadata": {},
   "outputs": [
    {
     "name": "stdout",
     "output_type": "stream",
     "text": [
      "Model: \"VAE\"\n",
      "_________________________________________________________________\n",
      "Layer (type)                 Output Shape              Param #   \n",
      "=================================================================\n",
      "encoder (Sequential)         (None, 64)                1371584   \n",
      "_________________________________________________________________\n",
      "decoder (Sequential)         (None, 784)               577232    \n",
      "=================================================================\n",
      "Total params: 1,948,816\n",
      "Trainable params: 1,948,752\n",
      "Non-trainable params: 64\n",
      "_________________________________________________________________\n",
      "Epoch 1/30\n",
      "469/469 [==============================] - 2s 5ms/step - loss: 0.0536 - val_loss: 0.0475\n",
      "Epoch 2/30\n",
      "469/469 [==============================] - 2s 5ms/step - loss: 0.0468 - val_loss: 0.0457\n",
      "Epoch 3/30\n",
      "469/469 [==============================] - 2s 5ms/step - loss: 0.0459 - val_loss: 0.0454\n",
      "Epoch 4/30\n",
      "469/469 [==============================] - 2s 5ms/step - loss: 0.0453 - val_loss: 0.0450\n",
      "Epoch 5/30\n",
      "469/469 [==============================] - 2s 5ms/step - loss: 0.0453 - val_loss: 0.0451\n",
      "Epoch 6/30\n",
      "469/469 [==============================] - 2s 5ms/step - loss: 0.0454 - val_loss: 0.0454\n",
      "Epoch 7/30\n",
      "469/469 [==============================] - 2s 5ms/step - loss: 0.0456 - val_loss: 0.0457\n",
      "Epoch 8/30\n",
      "469/469 [==============================] - 2s 5ms/step - loss: 0.0459 - val_loss: 0.0456\n",
      "Epoch 9/30\n",
      "469/469 [==============================] - 2s 5ms/step - loss: 0.0461 - val_loss: 0.0468\n",
      "Epoch 10/30\n",
      "469/469 [==============================] - 2s 5ms/step - loss: 0.0466 - val_loss: 0.0466\n",
      "Epoch 11/30\n",
      "469/469 [==============================] - 2s 5ms/step - loss: 0.0464 - val_loss: 0.0464\n",
      "Epoch 12/30\n",
      "469/469 [==============================] - 2s 5ms/step - loss: 0.0464 - val_loss: 0.0458\n",
      "Epoch 13/30\n",
      "469/469 [==============================] - 2s 5ms/step - loss: 0.0463 - val_loss: 0.0471\n",
      "Epoch 14/30\n",
      "469/469 [==============================] - 2s 5ms/step - loss: 0.0466 - val_loss: 0.0468\n",
      "Epoch 15/30\n",
      "469/469 [==============================] - 2s 5ms/step - loss: 0.0472 - val_loss: 0.0473\n",
      "Epoch 16/30\n",
      "469/469 [==============================] - 2s 5ms/step - loss: 0.0468 - val_loss: 0.0476\n",
      "Epoch 17/30\n",
      "469/469 [==============================] - 2s 5ms/step - loss: 0.0472 - val_loss: 0.0473\n",
      "Epoch 18/30\n",
      "469/469 [==============================] - 2s 5ms/step - loss: 0.0469 - val_loss: 0.0469\n",
      "Epoch 19/30\n",
      "469/469 [==============================] - 2s 5ms/step - loss: 0.0474 - val_loss: 0.0477\n",
      "Epoch 20/30\n",
      "469/469 [==============================] - 2s 5ms/step - loss: 0.0475 - val_loss: 0.0473\n",
      "Epoch 21/30\n",
      "469/469 [==============================] - 2s 5ms/step - loss: 0.0478 - val_loss: 0.0481\n",
      "Epoch 22/30\n",
      "469/469 [==============================] - 2s 5ms/step - loss: 0.0482 - val_loss: 0.0470\n",
      "Epoch 23/30\n",
      "469/469 [==============================] - 2s 5ms/step - loss: 0.0470 - val_loss: 0.0468\n",
      "Epoch 24/30\n",
      "469/469 [==============================] - 2s 5ms/step - loss: 0.0469 - val_loss: 0.0470\n",
      "Epoch 25/30\n",
      "469/469 [==============================] - 2s 5ms/step - loss: 0.0472 - val_loss: 0.0473\n",
      "Epoch 26/30\n",
      "469/469 [==============================] - 2s 5ms/step - loss: 0.0473 - val_loss: 0.0473\n",
      "Epoch 27/30\n",
      "469/469 [==============================] - 2s 5ms/step - loss: 0.0472 - val_loss: 0.0478\n",
      "Epoch 28/30\n",
      "469/469 [==============================] - 2s 5ms/step - loss: 0.0476 - val_loss: 0.0476\n",
      "Epoch 29/30\n",
      "469/469 [==============================] - 2s 5ms/step - loss: 0.0477 - val_loss: 0.0477\n",
      "Epoch 30/30\n",
      "469/469 [==============================] - 2s 5ms/step - loss: 0.0481 - val_loss: 0.0482\n"
     ]
    },
    {
     "data": {
      "text/plain": [
       "<tensorflow.python.keras.callbacks.History at 0x7fbdbf3df7b8>"
      ]
     },
     "execution_count": 5,
     "metadata": {},
     "output_type": "execute_result"
    }
   ],
   "source": [
    "vae = Sequential(name=\"VAE\")\n",
    "vae.add(encoder)\n",
    "vae.add(decoder)\n",
    "\n",
    "vae.compile(loss=loss, optimizer=Adam(lr=learning_rate))\n",
    "vae.summary()\n",
    "\n",
    "vae.fit(train_X, train_X.reshape(train_X.shape[0], 784), validation_data=(valid_X, valid_X.reshape(valid_X.shape[0], 784)), shuffle=True, verbose=1, batch_size=128, epochs=30)"
   ]
  },
  {
   "cell_type": "code",
   "execution_count": 6,
   "metadata": {},
   "outputs": [
    {
     "data": {
      "image/png": "[encoded data removed]",
      "text/plain": [
       "<Figure size 864x432 with 15 Axes>"
      ]
     },
     "metadata": {
      "needs_background": "light"
     },
     "output_type": "display_data"
    }
   ],
   "source": [
    "import matplotlib.pyplot as plt\n",
    "\n",
    "z = np.random.normal(0, 1, (15, z_dim))\n",
    "decoded_images = decoder.predict(z) * 255\n",
    "\n",
    "fig, axes = plt.subplots(3, 5)\n",
    "fig.set_size_inches(12, 6)\n",
    "for i in range(15):\n",
    "    axes[i//5, i%5].imshow(decoded_images[i].reshape(28, 28), cmap='gray')\n",
    "    axes[i//5, i%5].axis('off')\n",
    "plt.tight_layout()\n",
    "plt.title('Auto Encoder Images')\n",
    "plt.show()"
   ]
  },
  {
   "cell_type": "code",
   "execution_count": null,
   "metadata": {},
   "outputs": [],
   "source": []
  }
 ],
 "metadata": {
  "kernelspec": {
   "display_name": "Python 3",
   "language": "python",
   "name": "python3"
  },
  "language_info": {
   "codemirror_mode": {
    "name": "ipython",
    "version": 3
   },
   "file_extension": ".py",
   "mimetype": "text/x-python",
   "name": "python",
   "nbconvert_exporter": "python",
   "pygments_lexer": "ipython3",
   "version": "3.6.9"
  }
 },
 "nbformat": 4,
 "nbformat_minor": 4
}
